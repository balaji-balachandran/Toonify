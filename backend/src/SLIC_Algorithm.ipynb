{
 "cells": [
  {
   "cell_type": "code",
   "execution_count": 44,
   "metadata": {},
   "outputs": [],
   "source": [
    "import math\n",
    "from skimage import io, color\n",
    "from skimage.transform import resize\n",
    "import numpy as np"
   ]
  },
  {
   "cell_type": "code",
   "execution_count": 45,
   "metadata": {},
   "outputs": [],
   "source": [
    "# function which returns an object of class SuperPixel\n",
    "def make_superPixel(h, w,img):\n",
    "    return SuperPixels(h, w,img[h,w][0],img[h,w][1],img[h,w][2])"
   ]
  },
  {
   "cell_type": "code",
   "execution_count": 46,
   "metadata": {},
   "outputs": [],
   "source": [
    "# To define the initial cluster centers distanced at S\n",
    "def initial_cluster_center(S,img,img_h,img_w,clusters):\n",
    "    h = S // 2\n",
    "    w = S // 2\n",
    "    while h < img_h:\n",
    "        while w < img_w:\n",
    "            clusters.append(make_superPixel(h, w,img))\n",
    "            w += S\n",
    "        w = S // 2\n",
    "        h += S\n",
    "    return clusters"
   ]
  },
  {
   "cell_type": "code",
   "execution_count": 47,
   "metadata": {},
   "outputs": [],
   "source": [
    "# function to calculate gradient at each pixel \n",
    "def calc_gradient(h, w,img,img_w,img_h):\n",
    "    if w + 1 >= img_w:\n",
    "        w = img_w - 2\n",
    "    if h + 1 >= img_h:\n",
    "        h = img_h - 2\n",
    "    grad = img[w + 1, h + 1][0] - img[w, h][0] + img[w + 1, h + 1][1] - img[w, h][1] + img[w + 1, h + 1][2] - img[w, h][2]\n",
    "    return grad"
   ]
  },
  {
   "cell_type": "code",
   "execution_count": 48,
   "metadata": {},
   "outputs": [],
   "source": [
    "# function which reassign the cluster center to the pixel having the lowest gradient\n",
    "def reassign_cluster_center_acc_to_grad(clusters,img):\n",
    "    for c in clusters:\n",
    "        cluster_gradient = calc_gradient(c.h, c.w,img,img_w,img_h)\n",
    "        for dh in range(-1, 2):\n",
    "            for dw in range(-1, 2):\n",
    "                H = c.h + dh\n",
    "                W = c.w + dw\n",
    "                new_gradient = calc_gradient(H,W, img,img_w,img_h)\n",
    "                if new_gradient < cluster_gradient:\n",
    "                    c.update(H, W,img[H,W][0], img[H,W][1],img[H,W][2])\n",
    "                    c_gradient = new_gradient\n"
   ]
  },
  {
   "cell_type": "code",
   "execution_count": 49,
   "metadata": {},
   "outputs": [],
   "source": [
    "'''\n",
    "function to assign pixels to the nearest cluster using the Euclidean distance involving both color and spatial\n",
    "proximity.\n",
    "'''\n",
    "def assign_pixels_to_cluster(clusters,S,img,img_h,img_w,tag,dis):\n",
    "    for c in clusters:\n",
    "        for h in range(c.h - 2 * S, c.h + 2 * S):\n",
    "            if h < 0 or h >= img_h: continue\n",
    "            for w in range(c.w - 2 * S, c.w + 2 * S):\n",
    "                if w < 0 or w >= img_w: continue\n",
    "                l, a, b = img[h,w]\n",
    "                Dc = math.sqrt(math.pow(l - c.l, 2) + math.pow(a - c.a, 2) + math.pow(b - c.b, 2))\n",
    "                Ds = math.sqrt(math.pow(h - c.h, 2) + math.pow(w - c.w, 2))\n",
    "                D = math.sqrt(math.pow(Dc / m, 2) + math.pow(Ds /S, 2))\n",
    "                if D < dis[h,w]:\n",
    "                    if (h, w) not in tag:\n",
    "                        tag[(h, w)] = c\n",
    "                        c.pixels.append((h, w))\n",
    "                    else:\n",
    "                        tag[(h, w)].pixels.remove((h, w))\n",
    "                        tag[(h, w)] = c\n",
    "                        c.pixels.append((h, w))\n",
    "                    dis[h, w] = D"
   ]
  },
  {
   "cell_type": "code",
   "execution_count": 50,
   "metadata": {},
   "outputs": [],
   "source": [
    "# function to replace the cluster center with the mean of the pixels contained in the cluster\n",
    "def update_cluster_mean(clusters):\n",
    "    for c in clusters:\n",
    "        sum_h = sum_w = number = 0\n",
    "        #print(\"c.pixels\",c.pixels)\n",
    "        for p in c.pixels:\n",
    "            sum_h += p[0]\n",
    "            sum_w += p[1]\n",
    "            number += 1\n",
    "            H = sum_h // number\n",
    "            W = sum_w // number\n",
    "            c.update(H, W,img[H, W][0], img[H, W][1], img[H, W][2])"
   ]
  },
  {
   "cell_type": "code",
   "execution_count": 51,
   "metadata": {},
   "outputs": [],
   "source": [
    "# replace the color of each pixel in a cluster by the color of the cluster's center\n",
    "def avg_color_cluster(img,name,clusters):\n",
    "    image = np.copy(img)\n",
    "    for c in clusters:\n",
    "        for p in c.pixels:\n",
    "            image[p[0],p[1]][0] = c.l\n",
    "            image[p[0],p[1]][1] = c.a\n",
    "            image[p[0],p[1]][2] = c.b\n",
    "        # To change the color of cluster center to Black\n",
    "        image[c.h, c.w][0] = 0\n",
    "        image[c.h, c.w][1] = 0\n",
    "        image[c.h, c.w][2] = 0\n",
    "    lab2rgb(name, image)"
   ]
  },
  {
   "cell_type": "code",
   "execution_count": 52,
   "metadata": {},
   "outputs": [],
   "source": [
    "# function for the Simple Linear Iterative Clustering\n",
    "def slic(S,img,img_h,img_w,clusters,tag,dis):\n",
    "    clusters = initial_cluster_center(S,img,img_h,img_w,clusters)\n",
    "    reassign_cluster_center_acc_to_grad(clusters,img)\n",
    "    for i in range(10): # usually the algortihm converges within 10 iterations\n",
    "        assign_pixels_to_cluster(clusters,S,img,img_h,img_w,tag,dis)\n",
    "        update_cluster_mean(clusters)\n",
    "        if i == 9 : # to print the output after 10 iterations\n",
    "            name = 'out_m{m}_k{k}.png'.format(loop=i, m=m, k=k)\n",
    "            avg_color_cluster(img,name, clusters)\n",
    "    return clusters"
   ]
  },
  {
   "cell_type": "code",
   "execution_count": 53,
   "metadata": {},
   "outputs": [],
   "source": [
    "# function to convert LAB images back to RGB and save it\n",
    "def lab2rgb(path, lab_arr):\n",
    "    rgb_arr = color.lab2rgb(lab_arr)\n",
    "    io.imsave(path, rgb_arr)"
   ]
  },
  {
   "cell_type": "code",
   "execution_count": 54,
   "metadata": {},
   "outputs": [],
   "source": [
    "# A class to initialize the super pixels, of the form - [h,y,l,a,b].\n",
    "class SuperPixels(object):\n",
    "\n",
    "    def __init__(self, h, w, l=0, a=0, b=0):\n",
    "        self.update(h, w, l, a, b)\n",
    "        self.pixels = []\n",
    "\n",
    "    def update(self, h, w, l, a, b):\n",
    "        self.h = h\n",
    "        self.w = w\n",
    "        self.l = l\n",
    "        self.a = a\n",
    "        self.b = b"
   ]
  },
  {
   "cell_type": "code",
   "execution_count": 55,
   "metadata": {},
   "outputs": [
    {
     "name": "stdout",
     "output_type": "stream",
     "text": [
      "(3024, 4032, 3)\n",
      "(400, 400, 3)\n"
     ]
    }
   ],
   "source": [
    "# read the input RGB image\n",
    "rgb = io.imread(\"IMG_6604.jpeg\",plugin='matplotlib')\n",
    "print(rgb.shape)\n",
    "\n",
    "# input images are resized to (400 x 400) for processing\n",
    "img = resize(rgb, (400,400),anti_aliasing=True)\n",
    "print(img.shape)\n",
    "\n",
    "# convert RGB to LAB\n",
    "img = color.rgb2lab(img)\n",
    "\n",
    "k = 100   # Number of Super pixels\n",
    "m = 20    # Constant for normalizing the color proximity, range of m = [1,40]\n",
    "\n",
    "img_h = img.shape[0] # Image Height\n",
    "img_w = img.shape[1] # Image Width\n",
    "\n",
    "N = img_h * img_w  # Total number of pixels in the image\n",
    "S = int(math.sqrt(N /k)) # average size of each superpixel\n",
    "\n",
    "clusters = []\n",
    "tag = {}\n",
    "# initialize the distance between pixels and cluster center as infinity\n",
    "dis = np.full((img_h, img_w), np.inf)"
   ]
  },
  {
   "cell_type": "code",
   "execution_count": 56,
   "metadata": {},
   "outputs": [
    {
     "name": "stderr",
     "output_type": "stream",
     "text": [
      "Lossy conversion from float64 to uint8. Range [0, 1]. Convert image to uint8 prior to saving to suppress this warning.\n"
     ]
    }
   ],
   "source": [
    "cluster = slic(S,img,img_h,img_w,clusters,tag,dis)"
   ]
  },
  {
   "cell_type": "code",
   "execution_count": 57,
   "metadata": {},
   "outputs": [
    {
     "name": "stdout",
     "output_type": "stream",
     "text": [
      "H 19 : W 19, l 0.0, a 0.0, b 0.0\n",
      "H 18 : W 64, l 0.0, a 0.0, b 0.0\n",
      "H 68 : W 100, l 0.4708150211028155, a -0.2893852319335033, b -0.17380715395192148\n",
      "H 25 : W 122, l 0.0076318059835713825, a -4.845392420627093e-07, b 9.184443372500795e-07\n",
      "H 21 : W 172, l 0.8975086754819763, a -0.48014501602018644, b 0.8447389439648012\n",
      "H 22 : W 218, l 0.8044054005320298, a -0.5027430577216468, b 0.814222412942045\n",
      "H 19 : W 261, l 4.652419264732806, a -1.2116085054165033, b 3.614605539358351\n",
      "H 22 : W 301, l 19.705246176386865, a 8.469880388431495, b 12.054662089592084\n",
      "H 19 : W 338, l 33.01644425336143, a 14.193944141824094, b 13.036806525450562\n",
      "H 18 : W 379, l 31.35955771116216, a 11.831228786067378, b 14.647687738064906\n",
      "H 60 : W 19, l 0.0, a 0.0, b 0.0\n",
      "H 58 : W 59, l 0.0, a 0.0, b 0.0\n",
      "H 52 : W 92, l 93.28288546174036, a 2.0379773124894474, b 1.9126870122851303\n",
      "H 60 : W 149, l 1.708596427997847, a -0.9619990012148666, b 1.8142568209062016\n",
      "H 65 : W 191, l 30.375065452674903, a -3.629599855147936, b 22.85752133684582\n",
      "H 56 : W 222, l 18.855777628803935, a -4.256588036611358, b 4.479752281259552\n",
      "H 58 : W 265, l 6.2392838371345185, a 5.727422159568812, b 5.88109648608452\n",
      "H 61 : W 300, l 39.60177756578325, a 13.982396890894034, b 16.45175950591846\n",
      "H 59 : W 340, l 40.28880599489873, a 14.030289290190373, b 13.86031904890862\n",
      "H 58 : W 379, l 32.37819231543716, a 11.969295789378359, b 13.398705312307024\n",
      "H 101 : W 19, l 0.0, a 0.0, b 0.0\n",
      "H 98 : W 58, l 2.120589002174711e-07, a 1.490157025552108e-06, b -4.055631613875121e-06\n",
      "H 102 : W 103, l 0.011897292432969664, a -0.0026338284329491257, b -0.031803365862553834\n",
      "H 98 : W 152, l 1.849734040045984, a -0.02785972943449011, b 1.5971520776963177\n",
      "H 102 : W 180, l 36.648709956334514, a 1.1178303261888123, b 11.82157434242428\n",
      "H 100 : W 226, l 21.682028855486756, a 0.9771319629106046, b 4.547265846872806\n",
      "H 97 : W 253, l 19.498606113780376, a 8.755554511487684, b 12.112876940372097\n",
      "H 100 : W 294, l 37.34150480426109, a 6.015868619891646, b 13.289485012811165\n",
      "H 100 : W 341, l 46.09571825972595, a 15.214424111101687, b 14.699080231194717\n",
      "H 99 : W 380, l 33.95834879824139, a 12.204657784322393, b 14.739661322085972\n",
      "H 140 : W 18, l 0.0, a 0.0, b 0.0\n",
      "H 140 : W 58, l 0.18840292031906358, a -0.3688766742384608, b 0.23896255814141454\n",
      "H 139 : W 100, l 0.17208286617861646, a -0.29993764334576567, b 0.13415832568522967\n",
      "H 140 : W 150, l 5.442134773780971, a 3.6783715695905133, b -7.903835491459354\n",
      "H 121 : W 197, l 25.38999839339943, a -6.194144927693462, b 19.46220627110614\n",
      "H 138 : W 221, l 33.451740119638714, a 11.344843290658908, b 14.671975949260307\n",
      "H 148 : W 246, l 2.849707975941943, a 1.793074387234375, b 1.8029142268066456\n",
      "H 138 : W 295, l 41.09675164968149, a 6.37929738988613, b 15.06340808410025\n",
      "H 140 : W 337, l 45.59424137430051, a 15.128977752965401, b 16.951338859912347\n",
      "H 140 : W 379, l 30.980485401118152, a 12.155691260940626, b 13.759046786190632\n",
      "H 179 : W 20, l 0.0, a 0.0, b 0.0\n",
      "H 179 : W 60, l 0.8060041631215213, a 0.4515222942219066, b -1.0104753722815107\n",
      "H 178 : W 100, l 0.17207324585737283, a -0.3317748546487892, b 0.20644690349509998\n",
      "H 177 : W 146, l 13.09135289942899, a 4.49973812945606, b -10.31954135642631\n",
      "H 199 : W 185, l 38.662096823008945, a -4.267118614517535, b -1.1575848571855007\n",
      "H 177 : W 218, l 29.44167632300791, a -9.083750079368624, b 6.565891662505341\n",
      "H 164 : W 267, l 37.770660491634416, a 12.971035125931868, b 17.17319063896171\n",
      "H 181 : W 292, l 35.75545987770401, a 4.556528597710913, b 11.752925420889248\n",
      "H 179 : W 335, l 49.257666079416765, a 15.321120891445494, b 18.622056309592228\n",
      "H 180 : W 380, l 29.192191241438323, a 14.334770489194765, b 17.934462698159727\n",
      "H 218 : W 19, l 0.0, a 0.0, b 0.0\n",
      "H 220 : W 59, l 1.9908920253524194, a 0.8439872413391891, b -1.5920947705846678\n",
      "H 218 : W 99, l 0.182905712494275, a 0.31277664108525505, b -1.2787520593027124\n",
      "H 218 : W 134, l 0.49818177030955013, a 2.1871646995819534, b -6.52615160873432\n",
      "H 228 : W 168, l 7.17463268750976, a 9.673069544695629, b -22.04861171407587\n",
      "H 220 : W 221, l 62.40872477533563, a -3.252154716939404, b -9.457880298036624\n",
      "H 217 : W 259, l 23.34792396462852, a 10.241115072617907, b 10.151657237969458\n",
      "H 228 : W 292, l 30.125241418051736, a 5.083418359026148, b 10.769514128686886\n",
      "H 214 : W 334, l 43.778458188709536, a 18.685700425029093, b 19.60223751106358\n",
      "H 223 : W 379, l 31.63098801727218, a 12.307915422805127, b 14.753203486467347\n",
      "H 256 : W 16, l 0.20933694259356272, a -0.24596502094602346, b 0.14166966807912518\n",
      "H 260 : W 54, l 4.148245110380799, a 2.1112538817442683, b -4.476025009063922\n",
      "H 259 : W 96, l 0.28137209345639747, a 0.8628977203298804, b -2.683389832633848\n",
      "H 256 : W 131, l 0.2909767004854089, a 1.1749796316714023, b -3.4760683541065704\n",
      "H 260 : W 172, l 8.3088606127389, a -8.827480554471496, b 10.27366325294471\n",
      "H 262 : W 215, l 43.3850396486752, a -15.048952940606625, b 27.173527165714052\n",
      "H 267 : W 264, l 0.40926794471791794, a 0.1657965908387904, b 0.37911989141287683\n",
      "H 261 : W 295, l 38.15537963987772, a 7.300114486244292, b 14.345471719079505\n",
      "H 249 : W 330, l 14.954820420950032, a 4.911307339113491, b 7.2853631544088024\n",
      "H 268 : W 377, l 26.522678423209392, a 11.350818405797158, b 13.33049967149611\n",
      "H 297 : W 18, l 0.18078853725658206, a -0.3693264111891831, b 0.2639920743934099\n",
      "H 299 : W 58, l 0.05102195138443122, a 0.10533425938633045, b -0.4011274191582592\n",
      "H 300 : W 96, l 0.032844694843849, a -0.04086230806901736, b 0.029409798941393284\n",
      "H 296 : W 130, l 0.5902768298511951, a -0.7476797968245241, b 0.6549015866106234\n",
      "H 300 : W 176, l 0.03461332169374387, a -0.026097272956673856, b 0.03528799656085102\n",
      "H 304 : W 222, l 9.590197396094354, a -4.819972187679017, b 9.569731755225336\n",
      "H 297 : W 244, l 28.638205866911093, a -13.955471864382424, b 24.369157258781872\n",
      "H 301 : W 294, l 35.712917926252466, a 4.754356380112124, b 9.72359755358645\n",
      "H 287 : W 333, l 35.49847362984969, a 13.212999782308527, b 14.880025275217957\n",
      "H 308 : W 372, l 7.153731993918758, a 2.854677931130631, b 7.452249267206073\n",
      "H 343 : W 19, l 0.24086912830017582, a -0.10900118207077258, b 0.2966456493305014\n",
      "H 339 : W 59, l 0.41675091360557204, a -0.14715638838135037, b 0.4004798669734688\n",
      "H 340 : W 99, l 1.3675515130904579, a -0.8445592024112908, b 0.816492681166664\n",
      "H 340 : W 135, l 13.348589100038467, a -4.053775078193309, b 8.618195802905133\n",
      "H 330 : W 170, l 12.313108418705852, a -3.881648329702045, b 8.829933725026867\n",
      "H 339 : W 218, l 15.605406555282514, a -9.133738357791522, b 15.519601372723969\n",
      "H 335 : W 265, l 21.181731973499268, a -7.6921685169493434, b 16.08658931803592\n",
      "H 345 : W 314, l 10.57479021281516, a 8.054083712339995, b 7.189597834825834\n",
      "H 332 : W 339, l 1.2833819805757507, a 0.9471605716371706, b 1.0898820797186015\n",
      "H 346 : W 381, l 1.8907840481411782, a 0.9331314289933584, b 1.2151701005100546\n",
      "H 369 : W 18, l 11.046959867940547, a -0.37325218153400064, b 2.6547617232923315\n",
      "H 380 : W 55, l 0.43143090509585846, a -0.39638289164860285, b 0.4683642910349284\n",
      "H 380 : W 99, l 0.23880684840082367, a -0.4693524323762105, b 0.3425928945672785\n",
      "H 378 : W 139, l 9.681873197266118, a -4.3678682049628215, b 6.955087880978928\n",
      "H 376 : W 177, l 16.52079629711541, a -3.0596824885470997, b 5.896208399513503\n",
      "H 379 : W 217, l 13.278371178079773, a -2.6206946407109077, b 9.349453390882784\n",
      "H 380 : W 260, l 0.6799247189397732, a -0.4671433088224708, b 0.7606149651485594\n",
      "H 374 : W 296, l 4.66541260792415, a 1.0236800184358075, b 1.8089257423869465\n",
      "H 380 : W 335, l 2.989851497961155, a 2.7365724368520334, b 1.3190122453670516\n",
      "H 382 : W 372, l 11.35866804807318, a 2.462231962015532, b 4.2494711045429785\n"
     ]
    }
   ],
   "source": [
    "# superpixels\n",
    "for c in cluster:\n",
    "    print(\"H {} : W {}, l {}, a {}, b {}\".format(c.h,c.w,c.l,c.a,c.b))"
   ]
  },
  {
   "cell_type": "code",
   "execution_count": null,
   "metadata": {},
   "outputs": [],
   "source": []
  }
 ],
 "metadata": {
  "kernelspec": {
   "display_name": "Python 3",
   "language": "python",
   "name": "python3"
  },
  "language_info": {
   "codemirror_mode": {
    "name": "ipython",
    "version": 3
   },
   "file_extension": ".py",
   "mimetype": "text/x-python",
   "name": "python",
   "nbconvert_exporter": "python",
   "pygments_lexer": "ipython3",
   "version": "3.10.6"
  }
 },
 "nbformat": 4,
 "nbformat_minor": 2
}
